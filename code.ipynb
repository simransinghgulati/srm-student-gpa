{
 "cells": [
  {
   "cell_type": "markdown",
   "metadata": {},
   "source": [
    "# Multivariate Linear Regression to predict UG Score"
   ]
  },
  {
   "cell_type": "code",
   "execution_count": 4,
   "metadata": {},
   "outputs": [],
   "source": [
    "import numpy as np\n",
    "import pandas as pd\n",
    "import matplotlib.pyplot as plt\n",
    "from sklearn.linear_model import LogisticRegression\n",
    "from sklearn.model_selection import train_test_split"
   ]
  },
  {
   "cell_type": "markdown",
   "metadata": {},
   "source": [
    "## Acquiring Data\n",
    "\n",
    "The csv file contains student's details and academic credentials upto the 6<sup>th</sup> semester for the 2019 batch."
   ]
  },
  {
   "cell_type": "code",
   "execution_count": 5,
   "metadata": {},
   "outputs": [],
   "source": [
    "data = pd.read_csv(\"batch2019.csv\", index_col=[\"S.No\"])"
   ]
  },
  {
   "cell_type": "code",
   "execution_count": 6,
   "metadata": {},
   "outputs": [
    {
     "data": {
      "text/html": [
       "<div>\n",
       "<style scoped>\n",
       "    .dataframe tbody tr th:only-of-type {\n",
       "        vertical-align: middle;\n",
       "    }\n",
       "\n",
       "    .dataframe tbody tr th {\n",
       "        vertical-align: top;\n",
       "    }\n",
       "\n",
       "    .dataframe thead th {\n",
       "        text-align: right;\n",
       "    }\n",
       "</style>\n",
       "<table border=\"1\" class=\"dataframe\">\n",
       "  <thead>\n",
       "    <tr style=\"text-align: right;\">\n",
       "      <th></th>\n",
       "      <th>Register Number</th>\n",
       "      <th>Student Name</th>\n",
       "      <th>Degree</th>\n",
       "      <th>Branch</th>\n",
       "      <th>Campus</th>\n",
       "      <th>Mobile Number</th>\n",
       "      <th>E mail ID</th>\n",
       "      <th>10 th %</th>\n",
       "      <th>12 th / Diploma %</th>\n",
       "      <th>UG %</th>\n",
       "      <th>Number of Backlogs</th>\n",
       "      <th>No. of History of Arrears</th>\n",
       "    </tr>\n",
       "    <tr>\n",
       "      <th>S.No</th>\n",
       "      <th></th>\n",
       "      <th></th>\n",
       "      <th></th>\n",
       "      <th></th>\n",
       "      <th></th>\n",
       "      <th></th>\n",
       "      <th></th>\n",
       "      <th></th>\n",
       "      <th></th>\n",
       "      <th></th>\n",
       "      <th></th>\n",
       "      <th></th>\n",
       "    </tr>\n",
       "  </thead>\n",
       "  <tbody>\n",
       "    <tr>\n",
       "      <td>1</td>\n",
       "      <td>RA1511004010385</td>\n",
       "      <td>ANINDYA BASU</td>\n",
       "      <td>B. TECH</td>\n",
       "      <td>ECE</td>\n",
       "      <td>SRM IST</td>\n",
       "      <td>8240479070</td>\n",
       "      <td>anindyabasu_ama@srmuniv.edu.in</td>\n",
       "      <td>89.6</td>\n",
       "      <td>91.75</td>\n",
       "      <td>83.67</td>\n",
       "      <td>0</td>\n",
       "      <td>0</td>\n",
       "    </tr>\n",
       "    <tr>\n",
       "      <td>2</td>\n",
       "      <td>RA1511004010398</td>\n",
       "      <td>SHREYA CHAUDHARY</td>\n",
       "      <td>B. TECH</td>\n",
       "      <td>ECE</td>\n",
       "      <td>SRM IST</td>\n",
       "      <td>9566185403</td>\n",
       "      <td>shreyachaudhary_sud@srmuniv.edu.in</td>\n",
       "      <td>93.1</td>\n",
       "      <td>80.00</td>\n",
       "      <td>80.11</td>\n",
       "      <td>0</td>\n",
       "      <td>0</td>\n",
       "    </tr>\n",
       "    <tr>\n",
       "      <td>3</td>\n",
       "      <td>RA1511005010147</td>\n",
       "      <td>SHAYAN BANIK</td>\n",
       "      <td>B. Tech</td>\n",
       "      <td>EEE</td>\n",
       "      <td>SRM IST</td>\n",
       "      <td>8697353681</td>\n",
       "      <td>Shayanbanik_ni@srmuniv.edu.in</td>\n",
       "      <td>68.4</td>\n",
       "      <td>75.20</td>\n",
       "      <td>86.98</td>\n",
       "      <td>0</td>\n",
       "      <td>0</td>\n",
       "    </tr>\n",
       "    <tr>\n",
       "      <td>4</td>\n",
       "      <td>RA1511005010306</td>\n",
       "      <td>Anant Tiwari</td>\n",
       "      <td>B. Tech</td>\n",
       "      <td>EEE</td>\n",
       "      <td>SRM IST</td>\n",
       "      <td>7092928861</td>\n",
       "      <td>ananttiwari_vi@gmail.com</td>\n",
       "      <td>71.0</td>\n",
       "      <td>84.60</td>\n",
       "      <td>81.73</td>\n",
       "      <td>0</td>\n",
       "      <td>0</td>\n",
       "    </tr>\n",
       "    <tr>\n",
       "      <td>5</td>\n",
       "      <td>RA1511005010081</td>\n",
       "      <td>R.Ashwin</td>\n",
       "      <td>B. Tech</td>\n",
       "      <td>EEE</td>\n",
       "      <td>SRM IST</td>\n",
       "      <td>9940638271</td>\n",
       "      <td>rashwin_sr@srmuniv.edu.in</td>\n",
       "      <td>71.4</td>\n",
       "      <td>92.40</td>\n",
       "      <td>75.87</td>\n",
       "      <td>0</td>\n",
       "      <td>0</td>\n",
       "    </tr>\n",
       "  </tbody>\n",
       "</table>\n",
       "</div>"
      ],
      "text/plain": [
       "      Register Number      Student Name    Degree Branch   Campus  \\\n",
       "S.No                                                                \n",
       "1     RA1511004010385      ANINDYA BASU   B. TECH    ECE  SRM IST   \n",
       "2     RA1511004010398  SHREYA CHAUDHARY   B. TECH    ECE  SRM IST   \n",
       "3     RA1511005010147      SHAYAN BANIK  B. Tech     EEE  SRM IST   \n",
       "4     RA1511005010306      Anant Tiwari  B. Tech     EEE  SRM IST   \n",
       "5     RA1511005010081          R.Ashwin  B. Tech     EEE  SRM IST   \n",
       "\n",
       "     Mobile Number                           E mail ID  10 th %  \\\n",
       "S.No                                                              \n",
       "1       8240479070      anindyabasu_ama@srmuniv.edu.in     89.6   \n",
       "2       9566185403  shreyachaudhary_sud@srmuniv.edu.in     93.1   \n",
       "3       8697353681       Shayanbanik_ni@srmuniv.edu.in     68.4   \n",
       "4       7092928861            ananttiwari_vi@gmail.com     71.0   \n",
       "5       9940638271           rashwin_sr@srmuniv.edu.in     71.4   \n",
       "\n",
       "     12 th / Diploma %   UG %  Number of Backlogs No. of History of Arrears   \n",
       "S.No                                                                          \n",
       "1                91.75  83.67                   0                          0  \n",
       "2                80.00  80.11                   0                          0  \n",
       "3                75.20  86.98                   0                          0  \n",
       "4                84.60  81.73                   0                          0  \n",
       "5                92.40  75.87                   0                          0  "
      ]
     },
     "execution_count": 6,
     "metadata": {},
     "output_type": "execute_result"
    }
   ],
   "source": [
    "data.head()"
   ]
  },
  {
   "cell_type": "code",
   "execution_count": 7,
   "metadata": {},
   "outputs": [
    {
     "data": {
      "text/plain": [
       "(2619, 12)"
      ]
     },
     "execution_count": 7,
     "metadata": {},
     "output_type": "execute_result"
    }
   ],
   "source": [
    "data.shape"
   ]
  },
  {
   "cell_type": "markdown",
   "metadata": {},
   "source": [
    "## Data Preprocessing\n",
    "\n",
    "The UG Percentage varies depending upon curriculum and department size, so I'll evaluate for my department in particular. "
   ]
  },
  {
   "cell_type": "code",
   "execution_count": 8,
   "metadata": {},
   "outputs": [],
   "source": [
    "data_IT = data.loc[data.Branch=='IT']"
   ]
  },
  {
   "cell_type": "code",
   "execution_count": 10,
   "metadata": {},
   "outputs": [
    {
     "data": {
      "text/html": [
       "<div>\n",
       "<style scoped>\n",
       "    .dataframe tbody tr th:only-of-type {\n",
       "        vertical-align: middle;\n",
       "    }\n",
       "\n",
       "    .dataframe tbody tr th {\n",
       "        vertical-align: top;\n",
       "    }\n",
       "\n",
       "    .dataframe thead th {\n",
       "        text-align: right;\n",
       "    }\n",
       "</style>\n",
       "<table border=\"1\" class=\"dataframe\">\n",
       "  <thead>\n",
       "    <tr style=\"text-align: right;\">\n",
       "      <th></th>\n",
       "      <th>Register Number</th>\n",
       "      <th>Student Name</th>\n",
       "      <th>Degree</th>\n",
       "      <th>Branch</th>\n",
       "      <th>Campus</th>\n",
       "      <th>Mobile Number</th>\n",
       "      <th>E mail ID</th>\n",
       "      <th>10 th %</th>\n",
       "      <th>12 th / Diploma %</th>\n",
       "      <th>UG %</th>\n",
       "      <th>Number of Backlogs</th>\n",
       "      <th>No. of History of Arrears</th>\n",
       "    </tr>\n",
       "    <tr>\n",
       "      <th>S.No</th>\n",
       "      <th></th>\n",
       "      <th></th>\n",
       "      <th></th>\n",
       "      <th></th>\n",
       "      <th></th>\n",
       "      <th></th>\n",
       "      <th></th>\n",
       "      <th></th>\n",
       "      <th></th>\n",
       "      <th></th>\n",
       "      <th></th>\n",
       "      <th></th>\n",
       "    </tr>\n",
       "  </thead>\n",
       "  <tbody>\n",
       "    <tr>\n",
       "      <td>1191</td>\n",
       "      <td>RA1511008020089</td>\n",
       "      <td>PRINCE KUMAR SINGH</td>\n",
       "      <td>B.Tech</td>\n",
       "      <td>IT</td>\n",
       "      <td>SRM IST</td>\n",
       "      <td>7358329889</td>\n",
       "      <td>125princekumar@gmail.com</td>\n",
       "      <td>7.0</td>\n",
       "      <td>63.00</td>\n",
       "      <td>82.91</td>\n",
       "      <td>0</td>\n",
       "      <td>NIL</td>\n",
       "    </tr>\n",
       "    <tr>\n",
       "      <td>1192</td>\n",
       "      <td>RA1511008020182</td>\n",
       "      <td>Shubham singh</td>\n",
       "      <td>B.Tech</td>\n",
       "      <td>IT</td>\n",
       "      <td>SRM IST</td>\n",
       "      <td>9198216360</td>\n",
       "      <td>ss329222@gmail.com</td>\n",
       "      <td>7.4</td>\n",
       "      <td>6.70</td>\n",
       "      <td>82.09</td>\n",
       "      <td>0</td>\n",
       "      <td>NIL</td>\n",
       "    </tr>\n",
       "    <tr>\n",
       "      <td>1193</td>\n",
       "      <td>RA1511008020181</td>\n",
       "      <td>Soumyajyoti dutta</td>\n",
       "      <td>B.Tech</td>\n",
       "      <td>IT</td>\n",
       "      <td>SRM IST</td>\n",
       "      <td>8902292248</td>\n",
       "      <td>soumyajyoti.sd@gmail.com</td>\n",
       "      <td>7.8</td>\n",
       "      <td>63.00</td>\n",
       "      <td>82.42</td>\n",
       "      <td>0</td>\n",
       "      <td>NIL</td>\n",
       "    </tr>\n",
       "    <tr>\n",
       "      <td>1194</td>\n",
       "      <td>RA1511008020144</td>\n",
       "      <td>Ambica Gupta</td>\n",
       "      <td>B.Tech</td>\n",
       "      <td>IT</td>\n",
       "      <td>SRM IST</td>\n",
       "      <td>9840375623</td>\n",
       "      <td>deepaguptarke@gmail.com</td>\n",
       "      <td>8.2</td>\n",
       "      <td>62.00</td>\n",
       "      <td>90.86</td>\n",
       "      <td>0</td>\n",
       "      <td>NIL</td>\n",
       "    </tr>\n",
       "    <tr>\n",
       "      <td>1195</td>\n",
       "      <td>RA1511008020075</td>\n",
       "      <td>Mayank Kumar</td>\n",
       "      <td>B.Tech</td>\n",
       "      <td>IT</td>\n",
       "      <td>SRM IST</td>\n",
       "      <td>7004219751</td>\n",
       "      <td>mayankkumar4ever@gmail.com</td>\n",
       "      <td>8.4</td>\n",
       "      <td>73.00</td>\n",
       "      <td>82.37</td>\n",
       "      <td>0</td>\n",
       "      <td>NIL</td>\n",
       "    </tr>\n",
       "    <tr>\n",
       "      <td>1196</td>\n",
       "      <td>RA1511008020134</td>\n",
       "      <td>Varsha Singh</td>\n",
       "      <td>B.Tech</td>\n",
       "      <td>IT</td>\n",
       "      <td>SRM IST</td>\n",
       "      <td>9840373128</td>\n",
       "      <td>singhvarsha1342019@gmail.com</td>\n",
       "      <td>8.4</td>\n",
       "      <td>73.00</td>\n",
       "      <td>86.75</td>\n",
       "      <td>0</td>\n",
       "      <td>NIL</td>\n",
       "    </tr>\n",
       "    <tr>\n",
       "      <td>1197</td>\n",
       "      <td>RA1511008020128</td>\n",
       "      <td>R.Meera Ranjani</td>\n",
       "      <td>B.Tech</td>\n",
       "      <td>IT</td>\n",
       "      <td>SRM IST</td>\n",
       "      <td>9840377842</td>\n",
       "      <td>rmeeraranjani@gmail.com</td>\n",
       "      <td>8.4</td>\n",
       "      <td>86.00</td>\n",
       "      <td>82.18</td>\n",
       "      <td>0</td>\n",
       "      <td>NIL</td>\n",
       "    </tr>\n",
       "    <tr>\n",
       "      <td>1198</td>\n",
       "      <td>RA1511008020023</td>\n",
       "      <td>Rishabh Pathak</td>\n",
       "      <td>B.Tech</td>\n",
       "      <td>IT</td>\n",
       "      <td>SRM IST</td>\n",
       "      <td>9840341156</td>\n",
       "      <td>rishabh97able@gmail.com</td>\n",
       "      <td>8.8</td>\n",
       "      <td>63.00</td>\n",
       "      <td>81.93</td>\n",
       "      <td>0</td>\n",
       "      <td>NIL</td>\n",
       "    </tr>\n",
       "    <tr>\n",
       "      <td>1199</td>\n",
       "      <td>RA1511008020038</td>\n",
       "      <td>Shraddha Bajaj</td>\n",
       "      <td>B.Tech</td>\n",
       "      <td>IT</td>\n",
       "      <td>SRM IST</td>\n",
       "      <td>7358559989</td>\n",
       "      <td>shraddhabajaj1997@gmail.com</td>\n",
       "      <td>8.8</td>\n",
       "      <td>73.00</td>\n",
       "      <td>90.47</td>\n",
       "      <td>0</td>\n",
       "      <td>NIL</td>\n",
       "    </tr>\n",
       "    <tr>\n",
       "      <td>1200</td>\n",
       "      <td>RA1511008020150</td>\n",
       "      <td>Richa Sharma</td>\n",
       "      <td>B.Tech</td>\n",
       "      <td>IT</td>\n",
       "      <td>SRM IST</td>\n",
       "      <td>9840331064</td>\n",
       "      <td>richasharma5912@gmail.com</td>\n",
       "      <td>8.8</td>\n",
       "      <td>76.00</td>\n",
       "      <td>84.39</td>\n",
       "      <td>0</td>\n",
       "      <td>NIL</td>\n",
       "    </tr>\n",
       "  </tbody>\n",
       "</table>\n",
       "</div>"
      ],
      "text/plain": [
       "      Register Number        Student Name  Degree Branch   Campus  \\\n",
       "S.No                                                                \n",
       "1191  RA1511008020089  PRINCE KUMAR SINGH  B.Tech     IT  SRM IST   \n",
       "1192  RA1511008020182       Shubham singh  B.Tech     IT  SRM IST   \n",
       "1193  RA1511008020181   Soumyajyoti dutta  B.Tech     IT  SRM IST   \n",
       "1194  RA1511008020144        Ambica Gupta  B.Tech     IT  SRM IST   \n",
       "1195  RA1511008020075       Mayank Kumar   B.Tech     IT  SRM IST   \n",
       "1196  RA1511008020134       Varsha Singh   B.Tech     IT  SRM IST   \n",
       "1197  RA1511008020128     R.Meera Ranjani  B.Tech     IT  SRM IST   \n",
       "1198  RA1511008020023      Rishabh Pathak  B.Tech     IT  SRM IST   \n",
       "1199  RA1511008020038      Shraddha Bajaj  B.Tech     IT  SRM IST   \n",
       "1200  RA1511008020150        Richa Sharma  B.Tech     IT  SRM IST   \n",
       "\n",
       "     Mobile Number                     E mail ID  10 th % 12 th / Diploma %  \\\n",
       "S.No                                                                          \n",
       "1191    7358329889      125princekumar@gmail.com      7.0             63.00   \n",
       "1192    9198216360            ss329222@gmail.com      7.4              6.70   \n",
       "1193    8902292248      soumyajyoti.sd@gmail.com      7.8             63.00   \n",
       "1194    9840375623       deepaguptarke@gmail.com      8.2             62.00   \n",
       "1195    7004219751    mayankkumar4ever@gmail.com      8.4             73.00   \n",
       "1196    9840373128  singhvarsha1342019@gmail.com      8.4             73.00   \n",
       "1197    9840377842       rmeeraranjani@gmail.com      8.4             86.00   \n",
       "1198    9840341156       rishabh97able@gmail.com      8.8             63.00   \n",
       "1199    7358559989   shraddhabajaj1997@gmail.com      8.8             73.00   \n",
       "1200    9840331064     richasharma5912@gmail.com      8.8             76.00   \n",
       "\n",
       "       UG %  Number of Backlogs No. of History of Arrears   \n",
       "S.No                                                        \n",
       "1191  82.91                   0                        NIL  \n",
       "1192  82.09                   0                        NIL  \n",
       "1193  82.42                   0                        NIL  \n",
       "1194  90.86                   0                        NIL  \n",
       "1195  82.37                   0                        NIL  \n",
       "1196  86.75                   0                        NIL  \n",
       "1197  82.18                   0                        NIL  \n",
       "1198  81.93                   0                        NIL  \n",
       "1199  90.47                   0                        NIL  \n",
       "1200  84.39                   0                        NIL  "
      ]
     },
     "execution_count": 10,
     "metadata": {},
     "output_type": "execute_result"
    }
   ],
   "source": [
    "data_IT.head(10)"
   ]
  },
  {
   "cell_type": "code",
   "execution_count": 11,
   "metadata": {},
   "outputs": [
    {
     "data": {
      "text/plain": [
       "Index(['Register Number', 'Student Name', 'Degree', 'Branch', 'Campus',\n",
       "       'Mobile Number', 'E mail ID', '10 th %', '12 th / Diploma %', 'UG %',\n",
       "       'Number of Backlogs', 'No. of History of Arrears '],\n",
       "      dtype='object')"
      ]
     },
     "execution_count": 11,
     "metadata": {},
     "output_type": "execute_result"
    }
   ],
   "source": [
    "data_IT.columns"
   ]
  },
  {
   "cell_type": "markdown",
   "metadata": {},
   "source": [
    "## Feature Selection\n",
    "\n",
    "I'll use the input features as marks in class 10<sup>th</sup> and 12<sup>th</sup> to predict student's score in Undergraduate studies."
   ]
  },
  {
   "cell_type": "code",
   "execution_count": 12,
   "metadata": {},
   "outputs": [],
   "source": [
    "X = data_IT[data_IT.columns[7:9]].values"
   ]
  },
  {
   "cell_type": "code",
   "execution_count": 13,
   "metadata": {},
   "outputs": [],
   "source": [
    "y = data_IT[data_IT.columns[9]].values"
   ]
  },
  {
   "cell_type": "code",
   "execution_count": 14,
   "metadata": {},
   "outputs": [],
   "source": [
    "X_train, X_test, y_train, y_test = train_test_split(\n",
    "...     X, y, test_size=0.10, random_state=42)"
   ]
  },
  {
   "cell_type": "code",
   "execution_count": 15,
   "metadata": {},
   "outputs": [
    {
     "data": {
      "text/plain": [
       "(387, 2)"
      ]
     },
     "execution_count": 15,
     "metadata": {},
     "output_type": "execute_result"
    }
   ],
   "source": [
    "X.shape"
   ]
  },
  {
   "cell_type": "code",
   "execution_count": 16,
   "metadata": {},
   "outputs": [
    {
     "data": {
      "text/plain": [
       "(387,)"
      ]
     },
     "execution_count": 16,
     "metadata": {},
     "output_type": "execute_result"
    }
   ],
   "source": [
    "y.shape"
   ]
  },
  {
   "cell_type": "code",
   "execution_count": 22,
   "metadata": {},
   "outputs": [],
   "source": [
    "from keras.layers import Dense, Input\n",
    "from keras.models import Model\n",
    "\n",
    "from sklearn.preprocessing import OneHotEncoder"
   ]
  },
  {
   "cell_type": "code",
   "execution_count": 63,
   "metadata": {},
   "outputs": [],
   "source": [
    "in_layer = Input((2,))\n",
    "d1 = Dense(200, activation=\"sigmoid\", name=\"layer_1\")(in_layer)\n",
    "d2 = Dense(100, activation=\"sigmoid\", name=\"layer_2\")(d1)\n",
    "d3 = Dense(10, activation=\"sigmoid\", name=\"layer_3\")(d2)"
   ]
  },
  {
   "cell_type": "code",
   "execution_count": 64,
   "metadata": {},
   "outputs": [],
   "source": [
    "model = Model(in_layer, d3)"
   ]
  },
  {
   "cell_type": "code",
   "execution_count": 65,
   "metadata": {},
   "outputs": [
    {
     "name": "stdout",
     "output_type": "stream",
     "text": [
      "Model: \"model_6\"\n",
      "_________________________________________________________________\n",
      "Layer (type)                 Output Shape              Param #   \n",
      "=================================================================\n",
      "input_6 (InputLayer)         (None, 2)                 0         \n",
      "_________________________________________________________________\n",
      "layer_1 (Dense)              (None, 200)               600       \n",
      "_________________________________________________________________\n",
      "layer_2 (Dense)              (None, 100)               20100     \n",
      "_________________________________________________________________\n",
      "layer_3 (Dense)              (None, 10)                1010      \n",
      "=================================================================\n",
      "Total params: 21,710\n",
      "Trainable params: 21,710\n",
      "Non-trainable params: 0\n",
      "_________________________________________________________________\n"
     ]
    }
   ],
   "source": [
    "model.summary()"
   ]
  },
  {
   "cell_type": "code",
   "execution_count": 66,
   "metadata": {},
   "outputs": [],
   "source": [
    "model.compile(optimizer=\"adam\", loss=\"categorical_crossentropy\", metrics=[\"accuracy\"])"
   ]
  },
  {
   "cell_type": "code",
   "execution_count": 67,
   "metadata": {},
   "outputs": [],
   "source": [
    "ohe = OneHotEncoder(categories=\"auto\")"
   ]
  },
  {
   "cell_type": "code",
   "execution_count": 68,
   "metadata": {},
   "outputs": [],
   "source": [
    "y_hot = ohe.fit_transform(y.reshape(-1, 1))"
   ]
  },
  {
   "cell_type": "code",
   "execution_count": 69,
   "metadata": {},
   "outputs": [],
   "source": [
    "y_oe = (y % 2)"
   ]
  },
  {
   "cell_type": "code",
   "execution_count": 70,
   "metadata": {},
   "outputs": [
    {
     "ename": "ValueError",
     "evalue": "Error when checking target: expected layer_3 to have shape (10,) but got array with shape (313,)",
     "output_type": "error",
     "traceback": [
      "\u001b[0;31m---------------------------------------------------------------------------\u001b[0m",
      "\u001b[0;31mValueError\u001b[0m                                Traceback (most recent call last)",
      "\u001b[0;32m<ipython-input-70-42fd02717896>\u001b[0m in \u001b[0;36m<module>\u001b[0;34m\u001b[0m\n\u001b[0;32m----> 1\u001b[0;31m \u001b[0mmodel\u001b[0m\u001b[0;34m.\u001b[0m\u001b[0mfit\u001b[0m\u001b[0;34m(\u001b[0m\u001b[0mX\u001b[0m\u001b[0;34m,\u001b[0m \u001b[0my_hot\u001b[0m\u001b[0;34m,\u001b[0m \u001b[0mepochs\u001b[0m\u001b[0;34m=\u001b[0m\u001b[0;36m5\u001b[0m\u001b[0;34m)\u001b[0m\u001b[0;34m\u001b[0m\u001b[0;34m\u001b[0m\u001b[0m\n\u001b[0m",
      "\u001b[0;32m/Library/Frameworks/Python.framework/Versions/3.7/lib/python3.7/site-packages/keras/engine/training.py\u001b[0m in \u001b[0;36mfit\u001b[0;34m(self, x, y, batch_size, epochs, verbose, callbacks, validation_split, validation_data, shuffle, class_weight, sample_weight, initial_epoch, steps_per_epoch, validation_steps, validation_freq, max_queue_size, workers, use_multiprocessing, **kwargs)\u001b[0m\n\u001b[1;32m   1152\u001b[0m             \u001b[0msample_weight\u001b[0m\u001b[0;34m=\u001b[0m\u001b[0msample_weight\u001b[0m\u001b[0;34m,\u001b[0m\u001b[0;34m\u001b[0m\u001b[0;34m\u001b[0m\u001b[0m\n\u001b[1;32m   1153\u001b[0m             \u001b[0mclass_weight\u001b[0m\u001b[0;34m=\u001b[0m\u001b[0mclass_weight\u001b[0m\u001b[0;34m,\u001b[0m\u001b[0;34m\u001b[0m\u001b[0;34m\u001b[0m\u001b[0m\n\u001b[0;32m-> 1154\u001b[0;31m             batch_size=batch_size)\n\u001b[0m\u001b[1;32m   1155\u001b[0m \u001b[0;34m\u001b[0m\u001b[0m\n\u001b[1;32m   1156\u001b[0m         \u001b[0;31m# Prepare validation data.\u001b[0m\u001b[0;34m\u001b[0m\u001b[0;34m\u001b[0m\u001b[0;34m\u001b[0m\u001b[0m\n",
      "\u001b[0;32m/Library/Frameworks/Python.framework/Versions/3.7/lib/python3.7/site-packages/keras/engine/training.py\u001b[0m in \u001b[0;36m_standardize_user_data\u001b[0;34m(self, x, y, sample_weight, class_weight, check_array_lengths, batch_size)\u001b[0m\n\u001b[1;32m    619\u001b[0m                 \u001b[0mfeed_output_shapes\u001b[0m\u001b[0;34m,\u001b[0m\u001b[0;34m\u001b[0m\u001b[0;34m\u001b[0m\u001b[0m\n\u001b[1;32m    620\u001b[0m                 \u001b[0mcheck_batch_axis\u001b[0m\u001b[0;34m=\u001b[0m\u001b[0;32mFalse\u001b[0m\u001b[0;34m,\u001b[0m  \u001b[0;31m# Don't enforce the batch size.\u001b[0m\u001b[0;34m\u001b[0m\u001b[0;34m\u001b[0m\u001b[0m\n\u001b[0;32m--> 621\u001b[0;31m                 exception_prefix='target')\n\u001b[0m\u001b[1;32m    622\u001b[0m \u001b[0;34m\u001b[0m\u001b[0m\n\u001b[1;32m    623\u001b[0m             \u001b[0;31m# Generate sample-wise weight values given the `sample_weight` and\u001b[0m\u001b[0;34m\u001b[0m\u001b[0;34m\u001b[0m\u001b[0;34m\u001b[0m\u001b[0m\n",
      "\u001b[0;32m/Library/Frameworks/Python.framework/Versions/3.7/lib/python3.7/site-packages/keras/engine/training_utils.py\u001b[0m in \u001b[0;36mstandardize_input_data\u001b[0;34m(data, names, shapes, check_batch_axis, exception_prefix)\u001b[0m\n\u001b[1;32m    143\u001b[0m                             \u001b[0;34m': expected '\u001b[0m \u001b[0;34m+\u001b[0m \u001b[0mnames\u001b[0m\u001b[0;34m[\u001b[0m\u001b[0mi\u001b[0m\u001b[0;34m]\u001b[0m \u001b[0;34m+\u001b[0m \u001b[0;34m' to have shape '\u001b[0m \u001b[0;34m+\u001b[0m\u001b[0;34m\u001b[0m\u001b[0;34m\u001b[0m\u001b[0m\n\u001b[1;32m    144\u001b[0m                             \u001b[0mstr\u001b[0m\u001b[0;34m(\u001b[0m\u001b[0mshape\u001b[0m\u001b[0;34m)\u001b[0m \u001b[0;34m+\u001b[0m \u001b[0;34m' but got array with shape '\u001b[0m \u001b[0;34m+\u001b[0m\u001b[0;34m\u001b[0m\u001b[0;34m\u001b[0m\u001b[0m\n\u001b[0;32m--> 145\u001b[0;31m                             str(data_shape))\n\u001b[0m\u001b[1;32m    146\u001b[0m     \u001b[0;32mreturn\u001b[0m \u001b[0mdata\u001b[0m\u001b[0;34m\u001b[0m\u001b[0;34m\u001b[0m\u001b[0m\n\u001b[1;32m    147\u001b[0m \u001b[0;34m\u001b[0m\u001b[0m\n",
      "\u001b[0;31mValueError\u001b[0m: Error when checking target: expected layer_3 to have shape (10,) but got array with shape (313,)"
     ]
    }
   ],
   "source": [
    "model.fit(X, y_hot, epochs=5)"
   ]
  },
  {
   "cell_type": "code",
   "execution_count": null,
   "metadata": {},
   "outputs": [],
   "source": []
  },
  {
   "cell_type": "code",
   "execution_count": null,
   "metadata": {},
   "outputs": [],
   "source": []
  },
  {
   "cell_type": "code",
   "execution_count": null,
   "metadata": {},
   "outputs": [],
   "source": []
  },
  {
   "cell_type": "code",
   "execution_count": null,
   "metadata": {},
   "outputs": [],
   "source": []
  },
  {
   "cell_type": "code",
   "execution_count": null,
   "metadata": {},
   "outputs": [],
   "source": []
  },
  {
   "cell_type": "code",
   "execution_count": null,
   "metadata": {},
   "outputs": [],
   "source": []
  }
 ],
 "metadata": {
  "kernelspec": {
   "display_name": "Python 3",
   "language": "python",
   "name": "python3"
  },
  "language_info": {
   "codemirror_mode": {
    "name": "ipython",
    "version": 3
   },
   "file_extension": ".py",
   "mimetype": "text/x-python",
   "name": "python",
   "nbconvert_exporter": "python",
   "pygments_lexer": "ipython3",
   "version": "3.7.4"
  }
 },
 "nbformat": 4,
 "nbformat_minor": 4
}
